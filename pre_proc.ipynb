{
 "cells": [
  {
   "cell_type": "code",
   "execution_count": 7,
   "metadata": {},
   "outputs": [],
   "source": [
    "import pandas as pd\n"
   ]
  },
  {
   "cell_type": "code",
   "execution_count": 8,
   "metadata": {},
   "outputs": [],
   "source": [
    "df = pd.read_excel(\"https://raw.githubusercontent.com/irvin-s/crime_occur_vis/main/src/dataset.xls\")"
   ]
  },
  {
   "cell_type": "code",
   "execution_count": 9,
   "metadata": {},
   "outputs": [
    {
     "output_type": "execute_result",
     "data": {
      "text/plain": [
       "(50685, 57)"
      ]
     },
     "metadata": {},
     "execution_count": 9
    }
   ],
   "source": [
    "df.shape"
   ]
  },
  {
   "cell_type": "code",
   "execution_count": 10,
   "metadata": {},
   "outputs": [
    {
     "output_type": "stream",
     "name": "stdout",
     "text": [
      "Index(['ANO_BO', 'NUM_BO', 'NUMERO_BOLETIM', 'BO_INICIADO', 'BO_EMITIDO',\n       'DATAOCORRENCIA', 'HORAOCORRENCIA', 'PERIDOOCORRENCIA',\n       'DATACOMUNICACAO', 'DATAELABORACAO', 'BO_AUTORIA', 'FLAGRANTE',\n       'NUMERO_BOLETIM_PRINCIPAL', 'LOGRADOURO', 'NUMERO', 'BAIRRO', 'CIDADE',\n       'UF', 'LATITUDE', 'LONGITUDE', 'DESCRICAOLOCAL', 'EXAME', 'SOLUCAO',\n       'DELEGACIA_NOME', 'DELEGACIA_CIRCUNSCRICAO', 'ESPECIE', 'RUBRICA',\n       'DESDOBRAMENTO', 'STATUS', 'NOMEPESSOA', 'TIPOPESSOA', 'VITIMAFATAL',\n       'RG', 'RG_UF', 'NATURALIDADE', 'NACIONALIDADE', 'SEXO',\n       'DATANASCIMENTO', 'IDADE', 'ESTADOCIVIL', 'PROFISSAO', 'GRAUINSTRUCAO',\n       'CORCUTIS', 'NATUREZAVINCULADA', 'TIPOVINCULO', 'RELACIONAMENTO',\n       'PARENTESCO', 'PLACA_VEICULO', 'UF_VEICULO', 'CIDADE_VEICULO',\n       'DESCR_COR_VEICULO', 'DESCR_MARCA_VEICULO', 'ANO_FABRICACAO',\n       'ANO_MODELO', 'DESCR_TIPO_VEICULO', 'QUANT_CELULAR', 'MARCA_CELULAR'],\n      dtype='object')\n"
     ]
    }
   ],
   "source": [
    "print(df.columns)"
   ]
  },
  {
   "cell_type": "code",
   "execution_count": 11,
   "metadata": {},
   "outputs": [
    {
     "output_type": "execute_result",
     "data": {
      "text/plain": [
       "   ANO_BO  NUM_BO NUMERO_BOLETIM         BO_INICIADO          BO_EMITIDO  \\\n",
       "0    2020  877138    877138/2020 2020-06-30 21:04:33 2020-07-01 00:04:08   \n",
       "1    2020  877697    877697/2020 2020-06-30 22:39:41 2020-07-01 00:08:22   \n",
       "2    2020  877265    877265/2020 2020-06-30 21:27:20 2020-07-01 00:13:20   \n",
       "3    2020    3526      3526/2020 2020-06-30 22:40:54 2020-07-01 00:22:44   \n",
       "4    2020    3526      3526/2020 2020-06-30 22:40:54 2020-07-01 00:22:44   \n",
       "\n",
       "        DATAOCORRENCIA HORAOCORRENCIA PERIDOOCORRENCIA DATACOMUNICACAO  \\\n",
       "0  2020-06-26 00:00:00       19:30:00          A NOITE      2020-06-30   \n",
       "1  2020-06-30 00:00:00       18:35:00          A NOITE      2020-06-30   \n",
       "2  2020-06-30 00:00:00       05:30:00     DE MADRUGADA      2020-06-30   \n",
       "3  2020-06-30 00:00:00       20:50:00          A NOITE      2020-06-30   \n",
       "4  2020-06-30 00:00:00       20:50:00          A NOITE      2020-06-30   \n",
       "\n",
       "       DATAELABORACAO  ... PLACA_VEICULO UF_VEICULO CIDADE_VEICULO  \\\n",
       "0 2020-06-30 21:04:33  ...           NaN        NaN            NaN   \n",
       "1 2020-06-30 22:39:41  ...           NaN        NaN            NaN   \n",
       "2 2020-06-30 21:27:20  ...           NaN        NaN            NaN   \n",
       "3 2020-06-30 22:40:54  ...           NaN        NaN            NaN   \n",
       "4 2020-06-30 22:40:54  ...           NaN        NaN            NaN   \n",
       "\n",
       "  DESCR_COR_VEICULO  DESCR_MARCA_VEICULO ANO_FABRICACAO ANO_MODELO  \\\n",
       "0               NaN                  NaN            0.0        0.0   \n",
       "1               NaN                  NaN            0.0        0.0   \n",
       "2               NaN                  NaN            0.0        0.0   \n",
       "3               NaN                  NaN            0.0        0.0   \n",
       "4               NaN                  NaN            0.0        0.0   \n",
       "\n",
       "  DESCR_TIPO_VEICULO  QUANT_CELULAR  MARCA_CELULAR  \n",
       "0                NaN            NaN          APPLE  \n",
       "1                NaN            NaN           ASUS  \n",
       "2                NaN            NaN       MOTOROLA  \n",
       "3                NaN            1.0             LG  \n",
       "4                NaN            1.0       Motorola  \n",
       "\n",
       "[5 rows x 57 columns]"
      ],
      "text/html": "<div>\n<style scoped>\n    .dataframe tbody tr th:only-of-type {\n        vertical-align: middle;\n    }\n\n    .dataframe tbody tr th {\n        vertical-align: top;\n    }\n\n    .dataframe thead th {\n        text-align: right;\n    }\n</style>\n<table border=\"1\" class=\"dataframe\">\n  <thead>\n    <tr style=\"text-align: right;\">\n      <th></th>\n      <th>ANO_BO</th>\n      <th>NUM_BO</th>\n      <th>NUMERO_BOLETIM</th>\n      <th>BO_INICIADO</th>\n      <th>BO_EMITIDO</th>\n      <th>DATAOCORRENCIA</th>\n      <th>HORAOCORRENCIA</th>\n      <th>PERIDOOCORRENCIA</th>\n      <th>DATACOMUNICACAO</th>\n      <th>DATAELABORACAO</th>\n      <th>...</th>\n      <th>PLACA_VEICULO</th>\n      <th>UF_VEICULO</th>\n      <th>CIDADE_VEICULO</th>\n      <th>DESCR_COR_VEICULO</th>\n      <th>DESCR_MARCA_VEICULO</th>\n      <th>ANO_FABRICACAO</th>\n      <th>ANO_MODELO</th>\n      <th>DESCR_TIPO_VEICULO</th>\n      <th>QUANT_CELULAR</th>\n      <th>MARCA_CELULAR</th>\n    </tr>\n  </thead>\n  <tbody>\n    <tr>\n      <th>0</th>\n      <td>2020</td>\n      <td>877138</td>\n      <td>877138/2020</td>\n      <td>2020-06-30 21:04:33</td>\n      <td>2020-07-01 00:04:08</td>\n      <td>2020-06-26 00:00:00</td>\n      <td>19:30:00</td>\n      <td>A NOITE</td>\n      <td>2020-06-30</td>\n      <td>2020-06-30 21:04:33</td>\n      <td>...</td>\n      <td>NaN</td>\n      <td>NaN</td>\n      <td>NaN</td>\n      <td>NaN</td>\n      <td>NaN</td>\n      <td>0.0</td>\n      <td>0.0</td>\n      <td>NaN</td>\n      <td>NaN</td>\n      <td>APPLE</td>\n    </tr>\n    <tr>\n      <th>1</th>\n      <td>2020</td>\n      <td>877697</td>\n      <td>877697/2020</td>\n      <td>2020-06-30 22:39:41</td>\n      <td>2020-07-01 00:08:22</td>\n      <td>2020-06-30 00:00:00</td>\n      <td>18:35:00</td>\n      <td>A NOITE</td>\n      <td>2020-06-30</td>\n      <td>2020-06-30 22:39:41</td>\n      <td>...</td>\n      <td>NaN</td>\n      <td>NaN</td>\n      <td>NaN</td>\n      <td>NaN</td>\n      <td>NaN</td>\n      <td>0.0</td>\n      <td>0.0</td>\n      <td>NaN</td>\n      <td>NaN</td>\n      <td>ASUS</td>\n    </tr>\n    <tr>\n      <th>2</th>\n      <td>2020</td>\n      <td>877265</td>\n      <td>877265/2020</td>\n      <td>2020-06-30 21:27:20</td>\n      <td>2020-07-01 00:13:20</td>\n      <td>2020-06-30 00:00:00</td>\n      <td>05:30:00</td>\n      <td>DE MADRUGADA</td>\n      <td>2020-06-30</td>\n      <td>2020-06-30 21:27:20</td>\n      <td>...</td>\n      <td>NaN</td>\n      <td>NaN</td>\n      <td>NaN</td>\n      <td>NaN</td>\n      <td>NaN</td>\n      <td>0.0</td>\n      <td>0.0</td>\n      <td>NaN</td>\n      <td>NaN</td>\n      <td>MOTOROLA</td>\n    </tr>\n    <tr>\n      <th>3</th>\n      <td>2020</td>\n      <td>3526</td>\n      <td>3526/2020</td>\n      <td>2020-06-30 22:40:54</td>\n      <td>2020-07-01 00:22:44</td>\n      <td>2020-06-30 00:00:00</td>\n      <td>20:50:00</td>\n      <td>A NOITE</td>\n      <td>2020-06-30</td>\n      <td>2020-06-30 22:40:54</td>\n      <td>...</td>\n      <td>NaN</td>\n      <td>NaN</td>\n      <td>NaN</td>\n      <td>NaN</td>\n      <td>NaN</td>\n      <td>0.0</td>\n      <td>0.0</td>\n      <td>NaN</td>\n      <td>1.0</td>\n      <td>LG</td>\n    </tr>\n    <tr>\n      <th>4</th>\n      <td>2020</td>\n      <td>3526</td>\n      <td>3526/2020</td>\n      <td>2020-06-30 22:40:54</td>\n      <td>2020-07-01 00:22:44</td>\n      <td>2020-06-30 00:00:00</td>\n      <td>20:50:00</td>\n      <td>A NOITE</td>\n      <td>2020-06-30</td>\n      <td>2020-06-30 22:40:54</td>\n      <td>...</td>\n      <td>NaN</td>\n      <td>NaN</td>\n      <td>NaN</td>\n      <td>NaN</td>\n      <td>NaN</td>\n      <td>0.0</td>\n      <td>0.0</td>\n      <td>NaN</td>\n      <td>1.0</td>\n      <td>Motorola</td>\n    </tr>\n  </tbody>\n</table>\n<p>5 rows × 57 columns</p>\n</div>"
     },
     "metadata": {},
     "execution_count": 11
    }
   ],
   "source": [
    "df.head()"
   ]
  }
 ],
 "metadata": {
  "kernelspec": {
   "name": "python3",
   "display_name": "Python 3.9.1 64-bit",
   "metadata": {
    "interpreter": {
     "hash": "799275936fb7c37caa15961302e1f6bc5b6f09e92bdf39e5acfe019a9d46a476"
    }
   }
  },
  "language_info": {
   "codemirror_mode": {
    "name": "ipython",
    "version": 3
   },
   "file_extension": ".py",
   "mimetype": "text/x-python",
   "name": "python",
   "nbconvert_exporter": "python",
   "pygments_lexer": "ipython3",
   "version": "3.9.1-final"
  },
  "orig_nbformat": 2
 },
 "nbformat": 4,
 "nbformat_minor": 2
}