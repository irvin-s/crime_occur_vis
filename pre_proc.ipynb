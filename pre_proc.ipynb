{
 "cells": [
  {
   "cell_type": "code",
   "execution_count": 13,
   "metadata": {},
   "outputs": [],
   "source": [
    "import pandas as pd\n"
   ]
  },
  {
   "cell_type": "code",
   "execution_count": 14,
   "metadata": {},
   "outputs": [],
   "source": [
    "df = pd.read_excel(\"https://raw.githubusercontent.com/irvin-s/crime_occur_vis/main/src/dataset.xls\")"
   ]
  },
  {
   "cell_type": "code",
   "execution_count": 15,
   "metadata": {},
   "outputs": [
    {
     "output_type": "execute_result",
     "data": {
      "text/plain": [
       "(50685, 58)"
      ]
     },
     "metadata": {},
     "execution_count": 15
    }
   ],
   "source": [
    "df.shape"
   ]
  },
  {
   "cell_type": "code",
   "execution_count": 11,
   "metadata": {},
   "outputs": [
    {
     "output_type": "stream",
     "name": "stdout",
     "text": [
      "Index(['ano_bo', 'num_bo', 'numero_boletim', 'bo_iniciado', 'bo_emitido',\n       'dataocorrencia', 'horaocorrencia', 'mes', 'peridoocorrencia',\n       'datacomunicacao', 'dataelaboracao', 'bo_autoria', 'flagrante',\n       'numero_boletim_principal', 'logradouro', 'numero', 'bairro', 'cidade',\n       'uf', 'latitude', 'longitude', 'descricaolocal', 'exame', 'solucao',\n       'delegacia_nome', 'delegacia_circunscricao', 'especie', 'rubrica',\n       'desdobramento', 'status', 'nomepessoa', 'tipopessoa', 'vitimafatal',\n       'rg', 'rg_uf', 'naturalidade', 'nacionalidade', 'sexo',\n       'datanascimento', 'idade', 'estadocivil', 'profissao', 'grauinstrucao',\n       'corcutis', 'naturezavinculada', 'tipovinculo', 'relacionamento',\n       'parentesco', 'placa_veiculo', 'uf_veiculo', 'cidade_veiculo',\n       'descr_cor_veiculo', 'descr_marca_veiculo', 'ano_fabricacao',\n       'ano_modelo', 'descr_tipo_veiculo', 'quant_celular', 'marca_celular'],\n      dtype='object')\n"
     ]
    }
   ],
   "source": [
    "print(df.columns)"
   ]
  },
  {
   "cell_type": "code",
   "execution_count": 16,
   "metadata": {},
   "outputs": [
    {
     "output_type": "execute_result",
     "data": {
      "text/plain": [
       "   ano_bo  num_bo numero_boletim         bo_iniciado          bo_emitido  \\\n",
       "0    2020  877138    877138/2020 2020-06-30 21:04:33 2020-07-01 00:04:08   \n",
       "1    2020  877697    877697/2020 2020-06-30 22:39:41 2020-07-01 00:08:22   \n",
       "2    2020  877265    877265/2020 2020-06-30 21:27:20 2020-07-01 00:13:20   \n",
       "3    2020    3526      3526/2020 2020-06-30 22:40:54 2020-07-01 00:22:44   \n",
       "4    2020    3526      3526/2020 2020-06-30 22:40:54 2020-07-01 00:22:44   \n",
       "\n",
       "        dataocorrencia horaocorrencia    mes peridoocorrencia datacomunicacao  \\\n",
       "0  2020-06-26 00:00:00       19:30:00  Julho          A NOITE      2020-06-30   \n",
       "1  2020-06-30 00:00:00       18:35:00  Julho          A NOITE      2020-06-30   \n",
       "2  2020-06-30 00:00:00       05:30:00  Julho     DE MADRUGADA      2020-06-30   \n",
       "3  2020-06-30 00:00:00       20:50:00  Julho          A NOITE      2020-06-30   \n",
       "4  2020-06-30 00:00:00       20:50:00  Julho          A NOITE      2020-06-30   \n",
       "\n",
       "   ... placa_veiculo uf_veiculo cidade_veiculo descr_cor_veiculo  \\\n",
       "0  ...           NaN        NaN            NaN               NaN   \n",
       "1  ...           NaN        NaN            NaN               NaN   \n",
       "2  ...           NaN        NaN            NaN               NaN   \n",
       "3  ...           NaN        NaN            NaN               NaN   \n",
       "4  ...           NaN        NaN            NaN               NaN   \n",
       "\n",
       "  descr_marca_veiculo  ano_fabricacao ano_modelo descr_tipo_veiculo  \\\n",
       "0                 NaN             0.0        0.0                NaN   \n",
       "1                 NaN             0.0        0.0                NaN   \n",
       "2                 NaN             0.0        0.0                NaN   \n",
       "3                 NaN             0.0        0.0                NaN   \n",
       "4                 NaN             0.0        0.0                NaN   \n",
       "\n",
       "  quant_celular  marca_celular  \n",
       "0           NaN          APPLE  \n",
       "1           NaN           ASUS  \n",
       "2           NaN       MOTOROLA  \n",
       "3           1.0             LG  \n",
       "4           1.0       Motorola  \n",
       "\n",
       "[5 rows x 58 columns]"
      ],
      "text/html": "<div>\n<style scoped>\n    .dataframe tbody tr th:only-of-type {\n        vertical-align: middle;\n    }\n\n    .dataframe tbody tr th {\n        vertical-align: top;\n    }\n\n    .dataframe thead th {\n        text-align: right;\n    }\n</style>\n<table border=\"1\" class=\"dataframe\">\n  <thead>\n    <tr style=\"text-align: right;\">\n      <th></th>\n      <th>ano_bo</th>\n      <th>num_bo</th>\n      <th>numero_boletim</th>\n      <th>bo_iniciado</th>\n      <th>bo_emitido</th>\n      <th>dataocorrencia</th>\n      <th>horaocorrencia</th>\n      <th>mes</th>\n      <th>peridoocorrencia</th>\n      <th>datacomunicacao</th>\n      <th>...</th>\n      <th>placa_veiculo</th>\n      <th>uf_veiculo</th>\n      <th>cidade_veiculo</th>\n      <th>descr_cor_veiculo</th>\n      <th>descr_marca_veiculo</th>\n      <th>ano_fabricacao</th>\n      <th>ano_modelo</th>\n      <th>descr_tipo_veiculo</th>\n      <th>quant_celular</th>\n      <th>marca_celular</th>\n    </tr>\n  </thead>\n  <tbody>\n    <tr>\n      <th>0</th>\n      <td>2020</td>\n      <td>877138</td>\n      <td>877138/2020</td>\n      <td>2020-06-30 21:04:33</td>\n      <td>2020-07-01 00:04:08</td>\n      <td>2020-06-26 00:00:00</td>\n      <td>19:30:00</td>\n      <td>Julho</td>\n      <td>A NOITE</td>\n      <td>2020-06-30</td>\n      <td>...</td>\n      <td>NaN</td>\n      <td>NaN</td>\n      <td>NaN</td>\n      <td>NaN</td>\n      <td>NaN</td>\n      <td>0.0</td>\n      <td>0.0</td>\n      <td>NaN</td>\n      <td>NaN</td>\n      <td>APPLE</td>\n    </tr>\n    <tr>\n      <th>1</th>\n      <td>2020</td>\n      <td>877697</td>\n      <td>877697/2020</td>\n      <td>2020-06-30 22:39:41</td>\n      <td>2020-07-01 00:08:22</td>\n      <td>2020-06-30 00:00:00</td>\n      <td>18:35:00</td>\n      <td>Julho</td>\n      <td>A NOITE</td>\n      <td>2020-06-30</td>\n      <td>...</td>\n      <td>NaN</td>\n      <td>NaN</td>\n      <td>NaN</td>\n      <td>NaN</td>\n      <td>NaN</td>\n      <td>0.0</td>\n      <td>0.0</td>\n      <td>NaN</td>\n      <td>NaN</td>\n      <td>ASUS</td>\n    </tr>\n    <tr>\n      <th>2</th>\n      <td>2020</td>\n      <td>877265</td>\n      <td>877265/2020</td>\n      <td>2020-06-30 21:27:20</td>\n      <td>2020-07-01 00:13:20</td>\n      <td>2020-06-30 00:00:00</td>\n      <td>05:30:00</td>\n      <td>Julho</td>\n      <td>DE MADRUGADA</td>\n      <td>2020-06-30</td>\n      <td>...</td>\n      <td>NaN</td>\n      <td>NaN</td>\n      <td>NaN</td>\n      <td>NaN</td>\n      <td>NaN</td>\n      <td>0.0</td>\n      <td>0.0</td>\n      <td>NaN</td>\n      <td>NaN</td>\n      <td>MOTOROLA</td>\n    </tr>\n    <tr>\n      <th>3</th>\n      <td>2020</td>\n      <td>3526</td>\n      <td>3526/2020</td>\n      <td>2020-06-30 22:40:54</td>\n      <td>2020-07-01 00:22:44</td>\n      <td>2020-06-30 00:00:00</td>\n      <td>20:50:00</td>\n      <td>Julho</td>\n      <td>A NOITE</td>\n      <td>2020-06-30</td>\n      <td>...</td>\n      <td>NaN</td>\n      <td>NaN</td>\n      <td>NaN</td>\n      <td>NaN</td>\n      <td>NaN</td>\n      <td>0.0</td>\n      <td>0.0</td>\n      <td>NaN</td>\n      <td>1.0</td>\n      <td>LG</td>\n    </tr>\n    <tr>\n      <th>4</th>\n      <td>2020</td>\n      <td>3526</td>\n      <td>3526/2020</td>\n      <td>2020-06-30 22:40:54</td>\n      <td>2020-07-01 00:22:44</td>\n      <td>2020-06-30 00:00:00</td>\n      <td>20:50:00</td>\n      <td>Julho</td>\n      <td>A NOITE</td>\n      <td>2020-06-30</td>\n      <td>...</td>\n      <td>NaN</td>\n      <td>NaN</td>\n      <td>NaN</td>\n      <td>NaN</td>\n      <td>NaN</td>\n      <td>0.0</td>\n      <td>0.0</td>\n      <td>NaN</td>\n      <td>1.0</td>\n      <td>Motorola</td>\n    </tr>\n  </tbody>\n</table>\n<p>5 rows × 58 columns</p>\n</div>"
     },
     "metadata": {},
     "execution_count": 16
    }
   ],
   "source": [
    "df.head()"
   ]
  }
 ],
 "metadata": {
  "kernelspec": {
   "name": "python3",
   "display_name": "Python 3.9.1 64-bit",
   "metadata": {
    "interpreter": {
     "hash": "799275936fb7c37caa15961302e1f6bc5b6f09e92bdf39e5acfe019a9d46a476"
    }
   }
  },
  "language_info": {
   "codemirror_mode": {
    "name": "ipython",
    "version": 3
   },
   "file_extension": ".py",
   "mimetype": "text/x-python",
   "name": "python",
   "nbconvert_exporter": "python",
   "pygments_lexer": "ipython3",
   "version": "3.9.1-final"
  },
  "orig_nbformat": 2
 },
 "nbformat": 4,
 "nbformat_minor": 2
}